{
 "cells": [
  {
   "cell_type": "code",
   "execution_count": 1,
   "id": "8e77c34c",
   "metadata": {},
   "outputs": [
    {
     "name": "stdout",
     "output_type": "stream",
     "text": [
      "Requirement already satisfied: pycaret-ts-alpha in /Users/alwinsolair/opt/anaconda3/lib/python3.8/site-packages (3.0.0.dev1649017462)\n",
      "Requirement already satisfied: pyod>=0.9.8 in /Users/alwinsolair/opt/anaconda3/lib/python3.8/site-packages (from pycaret-ts-alpha) (1.0.4)\n",
      "Requirement already satisfied: pandas<1.5.0,>=1.3.0 in /Users/alwinsolair/opt/anaconda3/lib/python3.8/site-packages (from pycaret-ts-alpha) (1.4.4)\n",
      "Requirement already satisfied: sktime==0.10.1 in /Users/alwinsolair/opt/anaconda3/lib/python3.8/site-packages (from pycaret-ts-alpha) (0.10.1)\n",
      "Collecting scikit-learn>=1.0.2\n",
      "  Using cached scikit_learn-1.1.2-cp38-cp38-macosx_10_9_x86_64.whl (8.6 MB)\n",
      "Requirement already satisfied: ipython>=5.5.0 in /Users/alwinsolair/opt/anaconda3/lib/python3.8/site-packages (from pycaret-ts-alpha) (7.22.0)\n",
      "Requirement already satisfied: matplotlib>=3.3.0 in /Users/alwinsolair/opt/anaconda3/lib/python3.8/site-packages (from pycaret-ts-alpha) (3.3.4)\n",
      "Requirement already satisfied: statsmodels>=0.12.1 in /Users/alwinsolair/opt/anaconda3/lib/python3.8/site-packages (from pycaret-ts-alpha) (0.13.2)\n",
      "Requirement already satisfied: kaleido>=0.2.1 in /Users/alwinsolair/opt/anaconda3/lib/python3.8/site-packages (from pycaret-ts-alpha) (0.2.1)\n",
      "Requirement already satisfied: pmdarima>=1.8.0 in /Users/alwinsolair/opt/anaconda3/lib/python3.8/site-packages (from pycaret-ts-alpha) (2.0.1)\n",
      "Collecting yellowbrick>=1.4\n",
      "  Using cached yellowbrick-1.5-py3-none-any.whl (282 kB)\n",
      "Requirement already satisfied: tbats>=1.1.0 in /Users/alwinsolair/opt/anaconda3/lib/python3.8/site-packages (from pycaret-ts-alpha) (1.1.0)\n",
      "Collecting imbalanced-learn>=0.8.1\n",
      "  Using cached imbalanced_learn-0.9.1-py3-none-any.whl (199 kB)\n",
      "Requirement already satisfied: category-encoders>=2.4.0 in /Users/alwinsolair/opt/anaconda3/lib/python3.8/site-packages (from pycaret-ts-alpha) (2.5.0)\n",
      "Collecting joblib~=1.0.1\n",
      "  Downloading joblib-1.0.1-py3-none-any.whl (303 kB)\n",
      "\u001b[K     |████████████████████████████████| 303 kB 3.6 MB/s eta 0:00:01\n",
      "\u001b[?25hRequirement already satisfied: scikit-plot>=0.3.7 in /Users/alwinsolair/opt/anaconda3/lib/python3.8/site-packages (from pycaret-ts-alpha) (0.3.7)\n",
      "Collecting numba~=0.55.0\n",
      "  Using cached numba-0.55.2-cp38-cp38-macosx_10_14_x86_64.whl (2.3 MB)\n",
      "Collecting scipy~=1.7.3\n",
      "  Using cached scipy-1.7.3-cp38-cp38-macosx_10_9_x86_64.whl (33.0 MB)\n",
      "Requirement already satisfied: lightgbm>=3.0.0 in /Users/alwinsolair/opt/anaconda3/lib/python3.8/site-packages (from pycaret-ts-alpha) (3.3.2)\n",
      "Collecting numpy~=1.21\n",
      "  Using cached numpy-1.23.3-cp38-cp38-macosx_10_9_x86_64.whl (18.1 MB)\n",
      "Requirement already satisfied: plotly>=5.0.0 in /Users/alwinsolair/opt/anaconda3/lib/python3.8/site-packages (from pycaret-ts-alpha) (5.1.0)\n",
      "  Using cached numpy-1.21.6-cp38-cp38-macosx_10_9_x86_64.whl (16.9 MB)\n",
      "Requirement already satisfied: deprecated>=1.2.13 in /Users/alwinsolair/opt/anaconda3/lib/python3.8/site-packages (from sktime==0.10.1->pycaret-ts-alpha) (1.2.13)\n",
      "Requirement already satisfied: patsy>=0.5.1 in /Users/alwinsolair/opt/anaconda3/lib/python3.8/site-packages (from category-encoders>=2.4.0->pycaret-ts-alpha) (0.5.2)\n",
      "Requirement already satisfied: wrapt<2,>=1.10 in /Users/alwinsolair/opt/anaconda3/lib/python3.8/site-packages (from deprecated>=1.2.13->sktime==0.10.1->pycaret-ts-alpha) (1.12.1)\n",
      "Requirement already satisfied: threadpoolctl>=2.0.0 in /Users/alwinsolair/opt/anaconda3/lib/python3.8/site-packages (from imbalanced-learn>=0.8.1->pycaret-ts-alpha) (2.1.0)\n",
      "Requirement already satisfied: decorator in /Users/alwinsolair/opt/anaconda3/lib/python3.8/site-packages (from ipython>=5.5.0->pycaret-ts-alpha) (5.0.6)\n",
      "Requirement already satisfied: pexpect>4.3 in /Users/alwinsolair/opt/anaconda3/lib/python3.8/site-packages (from ipython>=5.5.0->pycaret-ts-alpha) (4.8.0)\n",
      "Requirement already satisfied: pygments in /Users/alwinsolair/opt/anaconda3/lib/python3.8/site-packages (from ipython>=5.5.0->pycaret-ts-alpha) (2.8.1)\n",
      "Requirement already satisfied: prompt-toolkit!=3.0.0,!=3.0.1,<3.1.0,>=2.0.0 in /Users/alwinsolair/opt/anaconda3/lib/python3.8/site-packages (from ipython>=5.5.0->pycaret-ts-alpha) (3.0.17)\n",
      "Requirement already satisfied: traitlets>=4.2 in /Users/alwinsolair/opt/anaconda3/lib/python3.8/site-packages (from ipython>=5.5.0->pycaret-ts-alpha) (5.0.5)\n",
      "Requirement already satisfied: setuptools>=18.5 in /Users/alwinsolair/opt/anaconda3/lib/python3.8/site-packages (from ipython>=5.5.0->pycaret-ts-alpha) (52.0.0.post20210125)\n",
      "Requirement already satisfied: backcall in /Users/alwinsolair/opt/anaconda3/lib/python3.8/site-packages (from ipython>=5.5.0->pycaret-ts-alpha) (0.2.0)\n",
      "Requirement already satisfied: jedi>=0.16 in /Users/alwinsolair/opt/anaconda3/lib/python3.8/site-packages (from ipython>=5.5.0->pycaret-ts-alpha) (0.17.2)\n",
      "Requirement already satisfied: pickleshare in /Users/alwinsolair/opt/anaconda3/lib/python3.8/site-packages (from ipython>=5.5.0->pycaret-ts-alpha) (0.7.5)\n",
      "Requirement already satisfied: appnope in /Users/alwinsolair/opt/anaconda3/lib/python3.8/site-packages (from ipython>=5.5.0->pycaret-ts-alpha) (0.1.2)\n",
      "Requirement already satisfied: parso<0.8.0,>=0.7.0 in /Users/alwinsolair/opt/anaconda3/lib/python3.8/site-packages (from jedi>=0.16->ipython>=5.5.0->pycaret-ts-alpha) (0.7.0)\n",
      "Requirement already satisfied: wheel in /Users/alwinsolair/opt/anaconda3/lib/python3.8/site-packages (from lightgbm>=3.0.0->pycaret-ts-alpha) (0.36.2)\n",
      "Requirement already satisfied: python-dateutil>=2.1 in /Users/alwinsolair/opt/anaconda3/lib/python3.8/site-packages (from matplotlib>=3.3.0->pycaret-ts-alpha) (2.8.1)\n",
      "Requirement already satisfied: pillow>=6.2.0 in /Users/alwinsolair/opt/anaconda3/lib/python3.8/site-packages (from matplotlib>=3.3.0->pycaret-ts-alpha) (8.2.0)\n",
      "Requirement already satisfied: cycler>=0.10 in /Users/alwinsolair/opt/anaconda3/lib/python3.8/site-packages (from matplotlib>=3.3.0->pycaret-ts-alpha) (0.10.0)\n",
      "Requirement already satisfied: pyparsing!=2.0.4,!=2.1.2,!=2.1.6,>=2.0.3 in /Users/alwinsolair/opt/anaconda3/lib/python3.8/site-packages (from matplotlib>=3.3.0->pycaret-ts-alpha) (2.4.7)\n",
      "Requirement already satisfied: kiwisolver>=1.0.1 in /Users/alwinsolair/opt/anaconda3/lib/python3.8/site-packages (from matplotlib>=3.3.0->pycaret-ts-alpha) (1.3.1)\n",
      "Requirement already satisfied: six in /Users/alwinsolair/opt/anaconda3/lib/python3.8/site-packages (from cycler>=0.10->matplotlib>=3.3.0->pycaret-ts-alpha) (1.15.0)\n",
      "Collecting llvmlite<0.39,>=0.38.0rc1\n",
      "  Using cached llvmlite-0.38.1-cp38-cp38-macosx_10_9_x86_64.whl (25.5 MB)\n",
      "Requirement already satisfied: pytz>=2020.1 in /Users/alwinsolair/opt/anaconda3/lib/python3.8/site-packages (from pandas<1.5.0,>=1.3.0->pycaret-ts-alpha) (2021.1)\n",
      "Requirement already satisfied: ptyprocess>=0.5 in /Users/alwinsolair/opt/anaconda3/lib/python3.8/site-packages (from pexpect>4.3->ipython>=5.5.0->pycaret-ts-alpha) (0.7.0)\n",
      "Requirement already satisfied: tenacity>=6.2.0 in /Users/alwinsolair/opt/anaconda3/lib/python3.8/site-packages (from plotly>=5.0.0->pycaret-ts-alpha) (8.0.1)\n",
      "Requirement already satisfied: Cython!=0.29.18,!=0.29.31,>=0.29 in /Users/alwinsolair/opt/anaconda3/lib/python3.8/site-packages (from pmdarima>=1.8.0->pycaret-ts-alpha) (0.29.23)\n",
      "Requirement already satisfied: urllib3 in /Users/alwinsolair/opt/anaconda3/lib/python3.8/site-packages (from pmdarima>=1.8.0->pycaret-ts-alpha) (1.26.4)\n",
      "Requirement already satisfied: wcwidth in /Users/alwinsolair/opt/anaconda3/lib/python3.8/site-packages (from prompt-toolkit!=3.0.0,!=3.0.1,<3.1.0,>=2.0.0->ipython>=5.5.0->pycaret-ts-alpha) (0.2.5)\n",
      "Requirement already satisfied: packaging>=21.3 in /Users/alwinsolair/opt/anaconda3/lib/python3.8/site-packages (from statsmodels>=0.12.1->pycaret-ts-alpha) (21.3)\n",
      "Requirement already satisfied: ipython-genutils in /Users/alwinsolair/opt/anaconda3/lib/python3.8/site-packages (from traitlets>=4.2->ipython>=5.5.0->pycaret-ts-alpha) (0.2.0)\n",
      "Installing collected packages: numpy, scipy, joblib, scikit-learn, llvmlite, numba, yellowbrick, imbalanced-learn\n",
      "  Attempting uninstall: numpy\n",
      "    Found existing installation: numpy 1.19.5\n",
      "    Uninstalling numpy-1.19.5:\n",
      "      Successfully uninstalled numpy-1.19.5\n",
      "  Attempting uninstall: scipy\n",
      "    Found existing installation: scipy 1.5.4\n"
     ]
    },
    {
     "name": "stdout",
     "output_type": "stream",
     "text": [
      "    Uninstalling scipy-1.5.4:\n",
      "      Successfully uninstalled scipy-1.5.4\n",
      "  Attempting uninstall: joblib\n",
      "    Found existing installation: joblib 1.1.0\n",
      "    Uninstalling joblib-1.1.0:\n",
      "      Successfully uninstalled joblib-1.1.0\n",
      "  Attempting uninstall: scikit-learn\n",
      "    Found existing installation: scikit-learn 0.23.2\n",
      "    Uninstalling scikit-learn-0.23.2:\n",
      "      Successfully uninstalled scikit-learn-0.23.2\n",
      "  Attempting uninstall: llvmlite\n",
      "    Found existing installation: llvmlite 0.37.0\n",
      "    Uninstalling llvmlite-0.37.0:\n",
      "      Successfully uninstalled llvmlite-0.37.0\n",
      "  Attempting uninstall: numba\n",
      "    Found existing installation: numba 0.54.1\n",
      "    Uninstalling numba-0.54.1:\n",
      "      Successfully uninstalled numba-0.54.1\n",
      "  Attempting uninstall: yellowbrick\n",
      "    Found existing installation: yellowbrick 1.3.post1\n",
      "    Uninstalling yellowbrick-1.3.post1:\n",
      "      Successfully uninstalled yellowbrick-1.3.post1\n",
      "  Attempting uninstall: imbalanced-learn\n",
      "    Found existing installation: imbalanced-learn 0.7.0\n",
      "    Uninstalling imbalanced-learn-0.7.0:\n",
      "      Successfully uninstalled imbalanced-learn-0.7.0\n",
      "\u001b[31mERROR: pip's dependency resolver does not currently take into account all the packages that are installed. This behaviour is the source of the following dependency conflicts.\n",
      "pycaret 2.3.10 requires imbalanced-learn==0.7.0, but you have imbalanced-learn 0.9.1 which is incompatible.\n",
      "pycaret 2.3.10 requires numba<0.55, but you have numba 0.55.2 which is incompatible.\n",
      "pycaret 2.3.10 requires scikit-learn==0.23.2, but you have scikit-learn 1.1.2 which is incompatible.\n",
      "pycaret 2.3.10 requires scipy<=1.5.4, but you have scipy 1.7.3 which is incompatible.\n",
      "pandas-profiling 3.3.0 requires joblib~=1.1.0, but you have joblib 1.0.1 which is incompatible.\u001b[0m\n",
      "Successfully installed imbalanced-learn-0.9.1 joblib-1.0.1 llvmlite-0.38.1 numba-0.55.2 numpy-1.21.6 scikit-learn-1.1.2 scipy-1.7.3 yellowbrick-1.5\n",
      "Note: you may need to restart the kernel to use updated packages.\n"
     ]
    }
   ],
   "source": [
    "pip install pycaret-ts-alpha"
   ]
  },
  {
   "cell_type": "code",
   "execution_count": 2,
   "id": "46f07b16",
   "metadata": {
    "scrolled": true
   },
   "outputs": [
    {
     "data": {
      "text/html": [
       "<div>\n",
       "<style scoped>\n",
       "    .dataframe tbody tr th:only-of-type {\n",
       "        vertical-align: middle;\n",
       "    }\n",
       "\n",
       "    .dataframe tbody tr th {\n",
       "        vertical-align: top;\n",
       "    }\n",
       "\n",
       "    .dataframe thead th {\n",
       "        text-align: right;\n",
       "    }\n",
       "</style>\n",
       "<table border=\"1\" class=\"dataframe\">\n",
       "  <thead>\n",
       "    <tr style=\"text-align: right;\">\n",
       "      <th></th>\n",
       "      <th>age</th>\n",
       "      <th>sex</th>\n",
       "      <th>bmi</th>\n",
       "      <th>children</th>\n",
       "      <th>smoker</th>\n",
       "      <th>region</th>\n",
       "      <th>charges</th>\n",
       "    </tr>\n",
       "  </thead>\n",
       "  <tbody>\n",
       "    <tr>\n",
       "      <th>0</th>\n",
       "      <td>19</td>\n",
       "      <td>female</td>\n",
       "      <td>27.900</td>\n",
       "      <td>0</td>\n",
       "      <td>yes</td>\n",
       "      <td>southwest</td>\n",
       "      <td>16884.92400</td>\n",
       "    </tr>\n",
       "    <tr>\n",
       "      <th>1</th>\n",
       "      <td>18</td>\n",
       "      <td>male</td>\n",
       "      <td>33.770</td>\n",
       "      <td>1</td>\n",
       "      <td>no</td>\n",
       "      <td>southeast</td>\n",
       "      <td>1725.55230</td>\n",
       "    </tr>\n",
       "    <tr>\n",
       "      <th>2</th>\n",
       "      <td>28</td>\n",
       "      <td>male</td>\n",
       "      <td>33.000</td>\n",
       "      <td>3</td>\n",
       "      <td>no</td>\n",
       "      <td>southeast</td>\n",
       "      <td>4449.46200</td>\n",
       "    </tr>\n",
       "    <tr>\n",
       "      <th>3</th>\n",
       "      <td>33</td>\n",
       "      <td>male</td>\n",
       "      <td>22.705</td>\n",
       "      <td>0</td>\n",
       "      <td>no</td>\n",
       "      <td>northwest</td>\n",
       "      <td>21984.47061</td>\n",
       "    </tr>\n",
       "    <tr>\n",
       "      <th>4</th>\n",
       "      <td>32</td>\n",
       "      <td>male</td>\n",
       "      <td>28.880</td>\n",
       "      <td>0</td>\n",
       "      <td>no</td>\n",
       "      <td>northwest</td>\n",
       "      <td>3866.85520</td>\n",
       "    </tr>\n",
       "  </tbody>\n",
       "</table>\n",
       "</div>"
      ],
      "text/plain": [
       "   age     sex     bmi  children smoker     region      charges\n",
       "0   19  female  27.900         0    yes  southwest  16884.92400\n",
       "1   18    male  33.770         1     no  southeast   1725.55230\n",
       "2   28    male  33.000         3     no  southeast   4449.46200\n",
       "3   33    male  22.705         0     no  northwest  21984.47061\n",
       "4   32    male  28.880         0     no  northwest   3866.85520"
      ]
     },
     "metadata": {},
     "output_type": "display_data"
    }
   ],
   "source": [
    "# load dataset\n",
    "from pycaret.datasets import get_data\n",
    "insurance = get_data('insurance')"
   ]
  },
  {
   "cell_type": "code",
   "execution_count": 3,
   "id": "ebc25a72",
   "metadata": {},
   "outputs": [],
   "source": [
    "# !pip uninstall scikit-learn -y"
   ]
  },
  {
   "cell_type": "code",
   "execution_count": 4,
   "id": "2d183b60",
   "metadata": {},
   "outputs": [],
   "source": [
    "# !pip install -U pycaret scikit-learn"
   ]
  },
  {
   "cell_type": "code",
   "execution_count": 5,
   "id": "0f16ea83",
   "metadata": {},
   "outputs": [
    {
     "ename": "ImportError",
     "evalue": "cannot import name 'to_df' from 'pycaret.internal.utils' (/Users/alwinsolair/opt/anaconda3/lib/python3.8/site-packages/pycaret/internal/utils.py)",
     "output_type": "error",
     "traceback": [
      "\u001b[0;31m---------------------------------------------------------------------------\u001b[0m",
      "\u001b[0;31mImportError\u001b[0m                               Traceback (most recent call last)",
      "\u001b[0;32m<ipython-input-5-2434a0fadf44>\u001b[0m in \u001b[0;36m<module>\u001b[0;34m\u001b[0m\n\u001b[1;32m      1\u001b[0m \u001b[0;31m# init environment\u001b[0m\u001b[0;34m\u001b[0m\u001b[0;34m\u001b[0m\u001b[0;34m\u001b[0m\u001b[0m\n\u001b[0;32m----> 2\u001b[0;31m \u001b[0;32mfrom\u001b[0m \u001b[0mpycaret\u001b[0m\u001b[0;34m.\u001b[0m\u001b[0mregression\u001b[0m \u001b[0;32mimport\u001b[0m \u001b[0;34m*\u001b[0m\u001b[0;34m\u001b[0m\u001b[0;34m\u001b[0m\u001b[0m\n\u001b[0m\u001b[1;32m      3\u001b[0m r1 = setup(insurance, target = 'charges', session_id = 123,\n\u001b[1;32m      4\u001b[0m            \u001b[0mnormalize\u001b[0m \u001b[0;34m=\u001b[0m \u001b[0;32mTrue\u001b[0m\u001b[0;34m,\u001b[0m\u001b[0;34m\u001b[0m\u001b[0;34m\u001b[0m\u001b[0m\n\u001b[1;32m      5\u001b[0m            \u001b[0mpolynomial_features\u001b[0m \u001b[0;34m=\u001b[0m \u001b[0;32mTrue\u001b[0m\u001b[0;34m,\u001b[0m \u001b[0mtrigonometry_features\u001b[0m \u001b[0;34m=\u001b[0m \u001b[0;32mTrue\u001b[0m\u001b[0;34m,\u001b[0m\u001b[0;34m\u001b[0m\u001b[0;34m\u001b[0m\u001b[0m\n",
      "\u001b[0;32m~/opt/anaconda3/lib/python3.8/site-packages/pycaret/regression/__init__.py\u001b[0m in \u001b[0;36m<module>\u001b[0;34m\u001b[0m\n\u001b[0;32m----> 1\u001b[0;31m \u001b[0;32mfrom\u001b[0m \u001b[0mpycaret\u001b[0m\u001b[0;34m.\u001b[0m\u001b[0mregression\u001b[0m\u001b[0;34m.\u001b[0m\u001b[0moop\u001b[0m \u001b[0;32mimport\u001b[0m \u001b[0mRegressionExperiment\u001b[0m\u001b[0;34m\u001b[0m\u001b[0;34m\u001b[0m\u001b[0m\n\u001b[0m\u001b[1;32m      2\u001b[0m from pycaret.regression.functional import (\n\u001b[1;32m      3\u001b[0m     \u001b[0msetup\u001b[0m\u001b[0;34m,\u001b[0m\u001b[0;34m\u001b[0m\u001b[0;34m\u001b[0m\u001b[0m\n\u001b[1;32m      4\u001b[0m     \u001b[0mcreate_model\u001b[0m\u001b[0;34m,\u001b[0m\u001b[0;34m\u001b[0m\u001b[0;34m\u001b[0m\u001b[0m\n\u001b[1;32m      5\u001b[0m     \u001b[0mcompare_models\u001b[0m\u001b[0;34m,\u001b[0m\u001b[0;34m\u001b[0m\u001b[0;34m\u001b[0m\u001b[0m\n",
      "\u001b[0;32m~/opt/anaconda3/lib/python3.8/site-packages/pycaret/regression/oop.py\u001b[0m in \u001b[0;36m<module>\u001b[0;34m\u001b[0m\n\u001b[1;32m     10\u001b[0m \u001b[0;31m# Own module\u001b[0m\u001b[0;34m\u001b[0m\u001b[0;34m\u001b[0m\u001b[0;34m\u001b[0m\u001b[0m\n\u001b[1;32m     11\u001b[0m \u001b[0;32mfrom\u001b[0m \u001b[0mpycaret\u001b[0m\u001b[0;34m.\u001b[0m\u001b[0minternal\u001b[0m\u001b[0;34m.\u001b[0m\u001b[0mpipeline\u001b[0m \u001b[0;32mimport\u001b[0m \u001b[0mPipeline\u001b[0m \u001b[0;32mas\u001b[0m \u001b[0mInternalPipeline\u001b[0m\u001b[0;34m\u001b[0m\u001b[0;34m\u001b[0m\u001b[0m\n\u001b[0;32m---> 12\u001b[0;31m \u001b[0;32mfrom\u001b[0m \u001b[0mpycaret\u001b[0m\u001b[0;34m.\u001b[0m\u001b[0minternal\u001b[0m\u001b[0;34m.\u001b[0m\u001b[0mpreprocess\u001b[0m\u001b[0;34m.\u001b[0m\u001b[0mpreprocessor\u001b[0m \u001b[0;32mimport\u001b[0m \u001b[0mPreprocessor\u001b[0m\u001b[0;34m\u001b[0m\u001b[0;34m\u001b[0m\u001b[0m\n\u001b[0m\u001b[1;32m     13\u001b[0m \u001b[0;32mfrom\u001b[0m \u001b[0mpycaret\u001b[0m\u001b[0;34m.\u001b[0m\u001b[0minternal\u001b[0m\u001b[0;34m.\u001b[0m\u001b[0mpycaret_experiment\u001b[0m\u001b[0;34m.\u001b[0m\u001b[0mutils\u001b[0m \u001b[0;32mimport\u001b[0m \u001b[0mMLUsecase\u001b[0m\u001b[0;34m,\u001b[0m \u001b[0mhighlight_setup\u001b[0m\u001b[0;34m\u001b[0m\u001b[0;34m\u001b[0m\u001b[0m\n\u001b[1;32m     14\u001b[0m from pycaret.internal.pycaret_experiment.supervised_experiment import (\n",
      "\u001b[0;32m~/opt/anaconda3/lib/python3.8/site-packages/pycaret/internal/preprocess/__init__.py\u001b[0m in \u001b[0;36m<module>\u001b[0;34m\u001b[0m\n\u001b[0;32m----> 1\u001b[0;31m \u001b[0;32mfrom\u001b[0m \u001b[0;34m.\u001b[0m\u001b[0mtransformers\u001b[0m \u001b[0;32mimport\u001b[0m \u001b[0;34m*\u001b[0m\u001b[0;34m\u001b[0m\u001b[0;34m\u001b[0m\u001b[0m\n\u001b[0m\u001b[1;32m      2\u001b[0m \u001b[0;32mfrom\u001b[0m \u001b[0;34m.\u001b[0m\u001b[0miterative_imputer\u001b[0m \u001b[0;32mimport\u001b[0m \u001b[0mIterativeImputer\u001b[0m\u001b[0;34m\u001b[0m\u001b[0;34m\u001b[0m\u001b[0m\n\u001b[1;32m      3\u001b[0m \u001b[0;34m\u001b[0m\u001b[0m\n\u001b[1;32m      4\u001b[0m \u001b[0;32mfrom\u001b[0m \u001b[0;34m.\u001b[0m\u001b[0mtarget\u001b[0m\u001b[0;34m.\u001b[0m\u001b[0mTransformedTargetClassifier\u001b[0m \u001b[0;32mimport\u001b[0m \u001b[0mTransformedTargetClassifier\u001b[0m\u001b[0;34m\u001b[0m\u001b[0;34m\u001b[0m\u001b[0m\n\u001b[1;32m      5\u001b[0m \u001b[0;32mfrom\u001b[0m \u001b[0;34m.\u001b[0m\u001b[0mtarget\u001b[0m\u001b[0;34m.\u001b[0m\u001b[0mTransformedTargetRegressor\u001b[0m \u001b[0;32mimport\u001b[0m \u001b[0mTransformedTargetRegressor\u001b[0m\u001b[0;34m\u001b[0m\u001b[0;34m\u001b[0m\u001b[0m\n",
      "\u001b[0;32m~/opt/anaconda3/lib/python3.8/site-packages/pycaret/internal/preprocess/transformers.py\u001b[0m in \u001b[0;36m<module>\u001b[0;34m\u001b[0m\n\u001b[1;32m     12\u001b[0m \u001b[0;32mfrom\u001b[0m \u001b[0msklearn\u001b[0m\u001b[0;34m.\u001b[0m\u001b[0mfeature_extraction\u001b[0m\u001b[0;34m.\u001b[0m\u001b[0mtext\u001b[0m \u001b[0;32mimport\u001b[0m \u001b[0mCountVectorizer\u001b[0m\u001b[0;34m,\u001b[0m \u001b[0mTfidfVectorizer\u001b[0m\u001b[0;34m\u001b[0m\u001b[0;34m\u001b[0m\u001b[0m\n\u001b[1;32m     13\u001b[0m \u001b[0;34m\u001b[0m\u001b[0m\n\u001b[0;32m---> 14\u001b[0;31m \u001b[0;32mfrom\u001b[0m \u001b[0;34m.\u001b[0m\u001b[0;34m.\u001b[0m\u001b[0mutils\u001b[0m \u001b[0;32mimport\u001b[0m \u001b[0mto_df\u001b[0m\u001b[0;34m,\u001b[0m \u001b[0mto_series\u001b[0m\u001b[0;34m,\u001b[0m \u001b[0mvariable_return\u001b[0m\u001b[0;34m\u001b[0m\u001b[0;34m\u001b[0m\u001b[0m\n\u001b[0m\u001b[1;32m     15\u001b[0m \u001b[0;34m\u001b[0m\u001b[0m\n\u001b[1;32m     16\u001b[0m \u001b[0;34m\u001b[0m\u001b[0m\n",
      "\u001b[0;31mImportError\u001b[0m: cannot import name 'to_df' from 'pycaret.internal.utils' (/Users/alwinsolair/opt/anaconda3/lib/python3.8/site-packages/pycaret/internal/utils.py)"
     ]
    }
   ],
   "source": [
    "# init environment\n",
    "from pycaret.regression import *\n",
    "r1 = setup(insurance, target = 'charges', session_id = 123,\n",
    "           normalize = True,\n",
    "           polynomial_features = True, trigonometry_features = True,\n",
    "           feature_interaction=True,\n",
    "           bin_numeric_features= ['age', 'bmi'])"
   ]
  },
  {
   "cell_type": "code",
   "execution_count": null,
   "id": "0af6cc5e",
   "metadata": {},
   "outputs": [],
   "source": [
    "import sklearn\n",
    "print(sklearn.__version__)"
   ]
  },
  {
   "cell_type": "code",
   "execution_count": null,
   "id": "b74ec9bb",
   "metadata": {},
   "outputs": [],
   "source": [
    "pip uninstall sklearn --yes"
   ]
  },
  {
   "cell_type": "code",
   "execution_count": null,
   "id": "120f0e1e",
   "metadata": {},
   "outputs": [],
   "source": [
    "pip uninstall scikit-learn --yes"
   ]
  },
  {
   "cell_type": "code",
   "execution_count": null,
   "id": "d1e4f810",
   "metadata": {},
   "outputs": [],
   "source": [
    "pip install scikit-learn==1.0.2"
   ]
  },
  {
   "cell_type": "code",
   "execution_count": null,
   "id": "19f84930",
   "metadata": {},
   "outputs": [],
   "source": [
    "print(sklearn.__version__)"
   ]
  },
  {
   "cell_type": "code",
   "execution_count": null,
   "id": "db80a73e",
   "metadata": {},
   "outputs": [],
   "source": [
    "# train a model\n",
    "lr = create_model('lr')"
   ]
  }
 ],
 "metadata": {
  "kernelspec": {
   "display_name": "Python 3",
   "language": "python",
   "name": "python3"
  },
  "language_info": {
   "codemirror_mode": {
    "name": "ipython",
    "version": 3
   },
   "file_extension": ".py",
   "mimetype": "text/x-python",
   "name": "python",
   "nbconvert_exporter": "python",
   "pygments_lexer": "ipython3",
   "version": "3.8.8"
  }
 },
 "nbformat": 4,
 "nbformat_minor": 5
}
